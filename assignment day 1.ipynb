{
 "cells": [
  {
   "cell_type": "code",
   "execution_count": 7,
   "id": "stopped-induction",
   "metadata": {},
   "outputs": [
    {
     "name": "stdout",
     "output_type": "stream",
     "text": [
      "enter value:2\n",
      "enter value:0\n",
      "1\n"
     ]
    }
   ],
   "source": [
    "x = int(input('enter value:'))\n",
    "y = int(input('enter value:'))\n",
    "power=x**y\n",
    "print(power)"
   ]
  },
  {
   "cell_type": "code",
   "execution_count": 8,
   "id": "eastern-specialist",
   "metadata": {},
   "outputs": [
    {
     "name": "stdout",
     "output_type": "stream",
     "text": [
      "enter value:4\n",
      "enter value:3\n",
      "64\n"
     ]
    }
   ],
   "source": [
    "x= int(input('enter value:'))\n",
    "y = int(input('enter value:'))\n",
    "power =x**y\n",
    "print(power)"
   ]
  },
  {
   "cell_type": "code",
   "execution_count": 22,
   "id": "strange-occupation",
   "metadata": {},
   "outputs": [
    {
     "name": "stdout",
     "output_type": "stream",
     "text": [
      "45\n",
      "33\n"
     ]
    }
   ],
   "source": [
    "li =[45, 67, 89, 33 ]\n",
    "m = 3\n",
    "for num in li:\n",
    "   if(num%3==0):\n",
    "    print(num)\n",
    "    \n",
    "    \n"
   ]
  }
 ],
 "metadata": {
  "kernelspec": {
   "display_name": "Python 3",
   "language": "python",
   "name": "python3"
  },
  "language_info": {
   "codemirror_mode": {
    "name": "ipython",
    "version": 3
   },
   "file_extension": ".py",
   "mimetype": "text/x-python",
   "name": "python",
   "nbconvert_exporter": "python",
   "pygments_lexer": "ipython3",
   "version": "3.9.2"
  }
 },
 "nbformat": 4,
 "nbformat_minor": 5
}
